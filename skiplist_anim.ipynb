{
 "cells": [
  {
   "cell_type": "code",
   "execution_count": 2,
   "id": "c06b22b9",
   "metadata": {},
   "outputs": [
    {
     "ename": "IndentationError",
     "evalue": "expected an indented block after 'while' statement on line 44 (2883392896.py, line 47)",
     "output_type": "error",
     "traceback": [
      "\u001b[0;36m  Cell \u001b[0;32mIn[2], line 47\u001b[0;36m\u001b[0m\n\u001b[0;31m    else:\u001b[0m\n\u001b[0m    ^\u001b[0m\n\u001b[0;31mIndentationError\u001b[0m\u001b[0;31m:\u001b[0m expected an indented block after 'while' statement on line 44\n"
     ]
    }
   ],
   "source": [
    "import random\n",
    "import algviz\n",
    "# Create a visualizer object.\n",
    "# The default duration of each frame of animation is 1.0 second.\n",
    "# The interval between two frames of animation is 0.5 seconds.\n",
    "viz = algviz.Visualizer(delay=1.0, wait=0.5)\n",
    "\n",
    "viz.display()               # Display the firt animation frame.\n",
    "# Do something...\n",
    "viz.display(delay=1.0)      # Display the second animation frame.\n",
    "\n",
    "tab = viz.createTable(\n",
    "    row=1,                    # The table has 3 rows.\n",
    "    col=1,                    # The table has 3 columns\n",
    "    data=None,                # The initial data in table.\n",
    "    name=\"Table\",             # The name of table.\n",
    "    cell_size=(40, 40),       # The table cell (width, height).\n",
    "    show_index=True           # Whether to display subscripts.\n",
    ")\n",
    "viz.display()\n",
    "\n",
    "curLength = 0                   # Keeps track of the length of the skiplist (number of cols)\n",
    "maxDepth = 3                    # Sets the maximum number of rows\n",
    "curAction = '_placeholder_'     # Will become insert, delete, search, or done\n",
    "while curAction != 'done':\n",
    "    curAction = input('Enter \\'insert\\', \\'delete\\', \\'search\\', or \\'done\\':' )\n",
    "\n",
    "    if curAction == 'insert':\n",
    "        print('You said insert...')\n",
    "        curInput = input('Enter an integer: ')  # String value from user input\n",
    "        curInt = -1                             # Will be replaced with the value of the integer, if input is valid\n",
    "        try:                                    # Make sure input is valid. Otherwise, start over.\n",
    "        # Convert it into integer\n",
    "            curInt = int(curInput)\n",
    "        except ValueError:\n",
    "            print('\\'', curInput, '\\' is not a valid integer...')\n",
    "            continue\n",
    "        print('time to add: ', curInt)\n",
    "        if curLength == 0:\n",
    "            tab.reshape(row=maxDepth, col=1)\n",
    "            tab[maxDepth-1][0] = curInt\n",
    "            curDepth = 1\n",
    "            nextLevel = random.choice([0,1])==1 # boolean value. 50% chance we go up a level.\n",
    "            while curDepth+1 is not maxDepth:\n",
    "                viz.display(0.5)\n",
    "            \n",
    "\n",
    "    elif curAction == 'delete':\n",
    "        print('You said delete...')\n",
    "    elif curAction == 'search':\n",
    "        print('You said search...')\n",
    "    elif curAction == 'done':\n",
    "        print('You said done...')\n",
    "    else:\n",
    "        print(\"INVALID INPUT! Try again...\")"
   ]
  },
  {
   "cell_type": "code",
   "execution_count": null,
   "id": "543339a0",
   "metadata": {},
   "outputs": [],
   "source": []
  },
  {
   "cell_type": "code",
   "execution_count": null,
   "id": "94623311",
   "metadata": {},
   "outputs": [],
   "source": []
  }
 ],
 "metadata": {
  "kernelspec": {
   "display_name": "Python 3",
   "language": "python",
   "name": "python3"
  },
  "language_info": {
   "codemirror_mode": {
    "name": "ipython",
    "version": 3
   },
   "file_extension": ".py",
   "mimetype": "text/x-python",
   "name": "python",
   "nbconvert_exporter": "python",
   "pygments_lexer": "ipython3",
   "version": "3.11.1"
  },
  "vscode": {
   "interpreter": {
    "hash": "aee8b7b246df8f9039afb4144a1f6fd8d2ca17a180786b69acc140d282b71a49"
   }
  }
 },
 "nbformat": 4,
 "nbformat_minor": 5
}
